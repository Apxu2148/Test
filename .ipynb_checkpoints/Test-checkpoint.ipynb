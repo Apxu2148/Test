{
 "cells": [
  {
   "cell_type": "markdown",
   "id": "366da434-47f1-49d5-87a5-ded287d556da",
   "metadata": {},
   "source": [
    "# Title 1\n",
    "\n",
    "## Title 2: Description\n",
    "Description of my program"
   ]
  },
  {
   "cell_type": "code",
   "execution_count": 6,
   "id": "023be6cf-3fc2-4113-81d6-f7099d9c0d97",
   "metadata": {},
   "outputs": [
    {
     "name": "stdout",
     "output_type": "stream",
     "text": [
      "The average value of the list [1, 2, 3, 4, 5] is 3.0\n"
     ]
    }
   ],
   "source": [
    "def calculate_average(numbers):\n",
    "  \"\"\"\n",
    "  Function to calculate the average value of a list of numbers.\n",
    "  Args:\n",
    "    numbers: List of numbers.\n",
    "  Returns:\n",
    "    The average value of the list.\n",
    "  \"\"\"\n",
    "  if len(numbers) == 0:\n",
    "    return 0\n",
    "  return sum(numbers) / len(numbers)\n",
    "\n",
    "# Example of using the function\n",
    "my_numbers = [1, 2, 3, 4, 5]\n",
    "average = calculate_average(my_numbers)\n",
    "print(f\"The average value of the list {my_numbers} is {average}\")"
   ]
  },
  {
   "cell_type": "code",
   "execution_count": null,
   "id": "901ac387-bd1d-4fd7-b72b-ad83afd4dd10",
   "metadata": {},
   "outputs": [],
   "source": []
  }
 ],
 "metadata": {
  "kernelspec": {
   "display_name": "Python 3 (ipykernel)",
   "language": "python",
   "name": "python3"
  },
  "language_info": {
   "codemirror_mode": {
    "name": "ipython",
    "version": 3
   },
   "file_extension": ".py",
   "mimetype": "text/x-python",
   "name": "python",
   "nbconvert_exporter": "python",
   "pygments_lexer": "ipython3",
   "version": "3.8.2"
  }
 },
 "nbformat": 4,
 "nbformat_minor": 5
}
